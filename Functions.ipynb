{
  "nbformat": 4,
  "nbformat_minor": 0,
  "metadata": {
    "colab": {
      "provenance": []
    },
    "kernelspec": {
      "name": "python3",
      "display_name": "Python 3"
    },
    "language_info": {
      "name": "python"
    }
  },
  "cells": [
    {
      "cell_type": "markdown",
      "source": [
        "# Functions"
      ],
      "metadata": {
        "id": "Iafmduhb8U7A"
      }
    },
    {
      "cell_type": "markdown",
      "source": [
        " 1. What is the difference between a function and a method in python?\n",
        "    - A function is a block of code that performs a specific task and is independant.\n",
        "    - A method is also a function, but it is tied to an object and can only be called using that object."
      ],
      "metadata": {
        "id": "pcpwlXGM-W65"
      }
    },
    {
      "cell_type": "code",
      "source": [
        "# Example\n",
        "def add(a, b):\n",
        "     return a +b\n",
        "     print(add(5, 2))"
      ],
      "metadata": {
        "id": "QJvkPYvZ_VOj"
      },
      "execution_count": 105,
      "outputs": []
    },
    {
      "cell_type": "markdown",
      "source": [
        "2. Explain the concept of function arguments and parameters in python.\n",
        "   - Parameters are variables defined inside the function to accept values.\n",
        "   - Arguments are the actual values passed when calling the function."
      ],
      "metadata": {
        "id": "k1VeGqeaAEWy"
      }
    },
    {
      "cell_type": "code",
      "source": [
        "# Example\n",
        "def greet(name):   #'name' is a parameter\n",
        "  print(\"hello\", name)\n",
        "  greet (\"hailey\")  # 'hailey' is an argument"
      ],
      "metadata": {
        "id": "Xs2OAAgWO6Ut"
      },
      "execution_count": 107,
      "outputs": []
    },
    {
      "cell_type": "markdown",
      "source": [
        "3. What are the different ways to define and call a function in python?\n",
        "   - Using def keyword (normal function)\n",
        "   - Using lambda (anonymous function)"
      ],
      "metadata": {
        "id": "XEfKYrBgRDAR"
      }
    },
    {
      "cell_type": "code",
      "source": [
        "# Example\n",
        "\n",
        "# Normal Function\n",
        "def square(x):\n",
        "  return x*x\n",
        "  print(square(5))  # 25\n",
        "\n",
        "# Lambda Function\n",
        "cube = lambda x: x**3\n",
        "print(cube(3))    # 27"
      ],
      "metadata": {
        "colab": {
          "base_uri": "https://localhost:8080/"
        },
        "id": "c9NEAyQTRiwH",
        "outputId": "4f420022-ae6f-4224-9c5f-1a4b90658a05"
      },
      "execution_count": 108,
      "outputs": [
        {
          "output_type": "stream",
          "name": "stdout",
          "text": [
            "27\n"
          ]
        }
      ]
    },
    {
      "cell_type": "markdown",
      "source": [
        "4. What is the purpose of the return statement in a python function?\n",
        "   - return is used to give back the result from a function to the caller."
      ],
      "metadata": {
        "id": "2HZ-SwBLSOdQ"
      }
    },
    {
      "cell_type": "code",
      "source": [
        "# Example\n",
        "\n",
        "def add(a, b):\n",
        "  return a + b\n",
        "  result = add(10, 5)\n",
        "  print(result)    # 15"
      ],
      "metadata": {
        "id": "LfdbjB8qSw5j"
      },
      "execution_count": 109,
      "outputs": []
    },
    {
      "cell_type": "markdown",
      "source": [
        "5. What are iterators in python and how do they differ from iterable?\n",
        "   - Iterable: Any object we can loop over (like list, strng, tuple).\n",
        "   - Iterator: An object that gives elements one by one using next()."
      ],
      "metadata": {
        "id": "Xfsa9k94TL7L"
      }
    },
    {
      "cell_type": "code",
      "source": [
        "# Example\n",
        "\n",
        "nums = [1, 2, 3]         # list is iterable\n",
        "nums_iter = iter(nums)   # iterator created\n",
        "print(next(nums_iter))   # 1\n",
        "print(next(nums_iter))   # 2\n",
        "print(next(nums_iter))   # 3"
      ],
      "metadata": {
        "colab": {
          "base_uri": "https://localhost:8080/"
        },
        "id": "zpRSWMtFTtg0",
        "outputId": "faec038e-46b6-4b43-eb89-53aa3f0cc6d5"
      },
      "execution_count": 110,
      "outputs": [
        {
          "output_type": "stream",
          "name": "stdout",
          "text": [
            "1\n",
            "2\n",
            "3\n"
          ]
        }
      ]
    },
    {
      "cell_type": "markdown",
      "source": [
        "6. Explain the concept of generators in python and how they are defined.\n",
        "   - Generators are special functions that give values one at a time using yield.\n",
        "   - They dont store all values in memory, making them memory-efficient."
      ],
      "metadata": {
        "id": "dq2YpI9CUCEm"
      }
    },
    {
      "cell_type": "code",
      "source": [
        "# Example\n",
        "\n",
        "def my_gen():\n",
        "  yield 1\n",
        "  yield 2\n",
        "  yield 3\n",
        "\n",
        "  for i in my_gen():\n",
        "    print (i)"
      ],
      "metadata": {
        "id": "Ni5lNB6lUifq"
      },
      "execution_count": 111,
      "outputs": []
    },
    {
      "cell_type": "markdown",
      "source": [
        "7. What are the advantages of using generators oveer regular functions?\n",
        "   - Saves memory (doesn't store all values at once).\n",
        "   - Useful fo large datasets or infinite sequences.\n",
        "   - Fasterexecution for big daata streams.\n",
        "   # Example:\n",
        "   - reading a large file line by line using generator instead of loading whole file.\n",
        "8. What is a lambda function in python and when is it typically used?\n",
        "   - Lambda is a small anonymous (nameless) function.\n",
        "   - It is used when a quick, one-line function is needed.     "
      ],
      "metadata": {
        "id": "J4pzC8ISVCXd"
      }
    },
    {
      "cell_type": "code",
      "source": [
        "# Example\n",
        "double = lambda x: x*2\n",
        "print(double(6))     # 12"
      ],
      "metadata": {
        "colab": {
          "base_uri": "https://localhost:8080/"
        },
        "id": "-swUuJFlWrPE",
        "outputId": "4171ce4e-05d5-48ed-af1f-187944d956c9"
      },
      "execution_count": 112,
      "outputs": [
        {
          "output_type": "stream",
          "name": "stdout",
          "text": [
            "12\n"
          ]
        }
      ]
    },
    {
      "cell_type": "markdown",
      "source": [
        "9. Explain the purpose and usage of the map() function in python.\n",
        "   - map() applies a function to each item of an iterable."
      ],
      "metadata": {
        "id": "qK2dscR8XEgt"
      }
    },
    {
      "cell_type": "code",
      "source": [
        "# Example\n",
        "nums = [1,2,3,4]\n",
        "squares = map(lambda x: x**2, nums)\n",
        "print(list(squares))    # [1,4,9,16]"
      ],
      "metadata": {
        "colab": {
          "base_uri": "https://localhost:8080/"
        },
        "id": "0v25egTtXXGs",
        "outputId": "b86f9260-5a37-431c-fc59-c4b4edcc6950"
      },
      "execution_count": 113,
      "outputs": [
        {
          "output_type": "stream",
          "name": "stdout",
          "text": [
            "[1, 4, 9, 16]\n"
          ]
        }
      ]
    },
    {
      "cell_type": "markdown",
      "source": [
        "10. What is the difference between map(), reduce(), and filter() functions in python?\n",
        "    - map(): applies a function to every element.\n",
        "    - filter(): selects elements that satisfy a condition.\n",
        "    - reduce(): reduces the list to a single value by applying a function step by step."
      ],
      "metadata": {
        "id": "c6iZaF5nXugh"
      }
    },
    {
      "cell_type": "code",
      "source": [
        "# Example\n",
        "\n",
        "from functools import reduce\n",
        "\n",
        "nums = [1,2,3,4]\n",
        "print(list(map(lambda x: x*2, nums)))\n",
        "print(list(filter(lambda x: x%2==0, nums)))\n",
        "print(reduce(lambda x,y: x+y, nums))"
      ],
      "metadata": {
        "colab": {
          "base_uri": "https://localhost:8080/"
        },
        "id": "rhbcPeFqYWvE",
        "outputId": "6a6985e2-e1db-49b9-d236-16c87bc199c7"
      },
      "execution_count": 114,
      "outputs": [
        {
          "output_type": "stream",
          "name": "stdout",
          "text": [
            "[2, 4, 6, 8]\n",
            "[2, 4]\n",
            "10\n"
          ]
        }
      ]
    },
    {
      "cell_type": "markdown",
      "source": [
        "11. Using pen and paper write the internal mechanism for sum operation using reduce function on this list: [47, 11, 42, 13]."
      ],
      "metadata": {
        "id": "cHa2kDvMieVn"
      }
    },
    {
      "cell_type": "code",
      "source": [
        "from google.colab import files\n",
        "from PIL import Image\n",
        "uploaded = files.upload()\n",
        "filename = list(uploaded.keys())[0]\n",
        "img = Image.open(filename)\n",
        "img.show()"
      ],
      "metadata": {
        "colab": {
          "base_uri": "https://localhost:8080/",
          "height": 73
        },
        "id": "h1csKWYWixla",
        "outputId": "6c639d23-45c6-4473-ba59-1a43793949a3"
      },
      "execution_count": 115,
      "outputs": [
        {
          "output_type": "display_data",
          "data": {
            "text/plain": [
              "<IPython.core.display.HTML object>"
            ],
            "text/html": [
              "\n",
              "     <input type=\"file\" id=\"files-c1437b95-5a50-4e1b-890c-535370e2aef4\" name=\"files[]\" multiple disabled\n",
              "        style=\"border:none\" />\n",
              "     <output id=\"result-c1437b95-5a50-4e1b-890c-535370e2aef4\">\n",
              "      Upload widget is only available when the cell has been executed in the\n",
              "      current browser session. Please rerun this cell to enable.\n",
              "      </output>\n",
              "      <script>// Copyright 2017 Google LLC\n",
              "//\n",
              "// Licensed under the Apache License, Version 2.0 (the \"License\");\n",
              "// you may not use this file except in compliance with the License.\n",
              "// You may obtain a copy of the License at\n",
              "//\n",
              "//      http://www.apache.org/licenses/LICENSE-2.0\n",
              "//\n",
              "// Unless required by applicable law or agreed to in writing, software\n",
              "// distributed under the License is distributed on an \"AS IS\" BASIS,\n",
              "// WITHOUT WARRANTIES OR CONDITIONS OF ANY KIND, either express or implied.\n",
              "// See the License for the specific language governing permissions and\n",
              "// limitations under the License.\n",
              "\n",
              "/**\n",
              " * @fileoverview Helpers for google.colab Python module.\n",
              " */\n",
              "(function(scope) {\n",
              "function span(text, styleAttributes = {}) {\n",
              "  const element = document.createElement('span');\n",
              "  element.textContent = text;\n",
              "  for (const key of Object.keys(styleAttributes)) {\n",
              "    element.style[key] = styleAttributes[key];\n",
              "  }\n",
              "  return element;\n",
              "}\n",
              "\n",
              "// Max number of bytes which will be uploaded at a time.\n",
              "const MAX_PAYLOAD_SIZE = 100 * 1024;\n",
              "\n",
              "function _uploadFiles(inputId, outputId) {\n",
              "  const steps = uploadFilesStep(inputId, outputId);\n",
              "  const outputElement = document.getElementById(outputId);\n",
              "  // Cache steps on the outputElement to make it available for the next call\n",
              "  // to uploadFilesContinue from Python.\n",
              "  outputElement.steps = steps;\n",
              "\n",
              "  return _uploadFilesContinue(outputId);\n",
              "}\n",
              "\n",
              "// This is roughly an async generator (not supported in the browser yet),\n",
              "// where there are multiple asynchronous steps and the Python side is going\n",
              "// to poll for completion of each step.\n",
              "// This uses a Promise to block the python side on completion of each step,\n",
              "// then passes the result of the previous step as the input to the next step.\n",
              "function _uploadFilesContinue(outputId) {\n",
              "  const outputElement = document.getElementById(outputId);\n",
              "  const steps = outputElement.steps;\n",
              "\n",
              "  const next = steps.next(outputElement.lastPromiseValue);\n",
              "  return Promise.resolve(next.value.promise).then((value) => {\n",
              "    // Cache the last promise value to make it available to the next\n",
              "    // step of the generator.\n",
              "    outputElement.lastPromiseValue = value;\n",
              "    return next.value.response;\n",
              "  });\n",
              "}\n",
              "\n",
              "/**\n",
              " * Generator function which is called between each async step of the upload\n",
              " * process.\n",
              " * @param {string} inputId Element ID of the input file picker element.\n",
              " * @param {string} outputId Element ID of the output display.\n",
              " * @return {!Iterable<!Object>} Iterable of next steps.\n",
              " */\n",
              "function* uploadFilesStep(inputId, outputId) {\n",
              "  const inputElement = document.getElementById(inputId);\n",
              "  inputElement.disabled = false;\n",
              "\n",
              "  const outputElement = document.getElementById(outputId);\n",
              "  outputElement.innerHTML = '';\n",
              "\n",
              "  const pickedPromise = new Promise((resolve) => {\n",
              "    inputElement.addEventListener('change', (e) => {\n",
              "      resolve(e.target.files);\n",
              "    });\n",
              "  });\n",
              "\n",
              "  const cancel = document.createElement('button');\n",
              "  inputElement.parentElement.appendChild(cancel);\n",
              "  cancel.textContent = 'Cancel upload';\n",
              "  const cancelPromise = new Promise((resolve) => {\n",
              "    cancel.onclick = () => {\n",
              "      resolve(null);\n",
              "    };\n",
              "  });\n",
              "\n",
              "  // Wait for the user to pick the files.\n",
              "  const files = yield {\n",
              "    promise: Promise.race([pickedPromise, cancelPromise]),\n",
              "    response: {\n",
              "      action: 'starting',\n",
              "    }\n",
              "  };\n",
              "\n",
              "  cancel.remove();\n",
              "\n",
              "  // Disable the input element since further picks are not allowed.\n",
              "  inputElement.disabled = true;\n",
              "\n",
              "  if (!files) {\n",
              "    return {\n",
              "      response: {\n",
              "        action: 'complete',\n",
              "      }\n",
              "    };\n",
              "  }\n",
              "\n",
              "  for (const file of files) {\n",
              "    const li = document.createElement('li');\n",
              "    li.append(span(file.name, {fontWeight: 'bold'}));\n",
              "    li.append(span(\n",
              "        `(${file.type || 'n/a'}) - ${file.size} bytes, ` +\n",
              "        `last modified: ${\n",
              "            file.lastModifiedDate ? file.lastModifiedDate.toLocaleDateString() :\n",
              "                                    'n/a'} - `));\n",
              "    const percent = span('0% done');\n",
              "    li.appendChild(percent);\n",
              "\n",
              "    outputElement.appendChild(li);\n",
              "\n",
              "    const fileDataPromise = new Promise((resolve) => {\n",
              "      const reader = new FileReader();\n",
              "      reader.onload = (e) => {\n",
              "        resolve(e.target.result);\n",
              "      };\n",
              "      reader.readAsArrayBuffer(file);\n",
              "    });\n",
              "    // Wait for the data to be ready.\n",
              "    let fileData = yield {\n",
              "      promise: fileDataPromise,\n",
              "      response: {\n",
              "        action: 'continue',\n",
              "      }\n",
              "    };\n",
              "\n",
              "    // Use a chunked sending to avoid message size limits. See b/62115660.\n",
              "    let position = 0;\n",
              "    do {\n",
              "      const length = Math.min(fileData.byteLength - position, MAX_PAYLOAD_SIZE);\n",
              "      const chunk = new Uint8Array(fileData, position, length);\n",
              "      position += length;\n",
              "\n",
              "      const base64 = btoa(String.fromCharCode.apply(null, chunk));\n",
              "      yield {\n",
              "        response: {\n",
              "          action: 'append',\n",
              "          file: file.name,\n",
              "          data: base64,\n",
              "        },\n",
              "      };\n",
              "\n",
              "      let percentDone = fileData.byteLength === 0 ?\n",
              "          100 :\n",
              "          Math.round((position / fileData.byteLength) * 100);\n",
              "      percent.textContent = `${percentDone}% done`;\n",
              "\n",
              "    } while (position < fileData.byteLength);\n",
              "  }\n",
              "\n",
              "  // All done.\n",
              "  yield {\n",
              "    response: {\n",
              "      action: 'complete',\n",
              "    }\n",
              "  };\n",
              "}\n",
              "\n",
              "scope.google = scope.google || {};\n",
              "scope.google.colab = scope.google.colab || {};\n",
              "scope.google.colab._files = {\n",
              "  _uploadFiles,\n",
              "  _uploadFilesContinue,\n",
              "};\n",
              "})(self);\n",
              "</script> "
            ]
          },
          "metadata": {}
        },
        {
          "output_type": "stream",
          "name": "stdout",
          "text": [
            "Saving Screenshot_20250828-170746.png to Screenshot_20250828-170746 (3).png\n"
          ]
        }
      ]
    },
    {
      "cell_type": "code",
      "source": [
        "# Write a python function that takes a list of numbers as input and returns the sum of all even numbers in the list.\n",
        "\n",
        "def sum_even(numbers):\n",
        "  return sum([n for n in numbers if n % 2 == 0])\n",
        "  print(sum_even([1,2,3,4,5,6]))"
      ],
      "metadata": {
        "id": "84zMimWLmcXj"
      },
      "execution_count": 116,
      "outputs": []
    },
    {
      "cell_type": "code",
      "source": [
        "# Create a python function that accepts a string and returns the reverse of that string.\n",
        "\n",
        "def reverse_string(string):\n",
        "  return string[::-1]\n",
        "  print(reverse_string(\"hello\"))"
      ],
      "metadata": {
        "id": "uLTNokw1oK5-"
      },
      "execution_count": 117,
      "outputs": []
    },
    {
      "cell_type": "code",
      "source": [
        "# Implement a python function that takes a list of integers and returns a new list containing the squares of each number.\n",
        "\n",
        "def square_list(numbers):\n",
        "  return [n**2 for n in numbers]\n",
        "  print(square_list([1,2,3,4,5]))"
      ],
      "metadata": {
        "id": "bGnQ41BIpwf_"
      },
      "execution_count": 118,
      "outputs": []
    },
    {
      "cell_type": "code",
      "source": [
        "# Write a python function that checks if a given number is prime or not from 1 to 200.\n",
        "\n",
        "def is_prime(n):\n",
        "  if n < 2:\n",
        "    return False\n",
        "  for i in range(2, int(n**0.5) + 1):\n",
        "    if n % i == 0:\n",
        "      return False\n",
        "  return True"
      ],
      "metadata": {
        "id": "yw8AXZ1Or6yc"
      },
      "execution_count": 119,
      "outputs": []
    },
    {
      "cell_type": "code",
      "source": [
        "# Create an iterator class in python that generates the fibonacci sequence up to a specified number of terms.\n",
        "\n",
        "class fibonacci:\n",
        "  def __init__(self, n): # Removed space\n",
        "    self.n = n\n",
        "    self.a, self.b = 0, 1\n",
        "    self.count = 0\n",
        "\n",
        "  def __iter__(self): # Removed space\n",
        "    return self\n",
        "\n",
        "  def __next__(self): # Removed space\n",
        "    if self.count < self.n:\n",
        "        result = self.a\n",
        "        self.a, self.b = self.b, self.a + self.b\n",
        "        self.count += 1\n",
        "        return result\n",
        "    else:\n",
        "      raise StopIteration\n",
        "\n",
        "# Example usage:\n",
        "fib_iter = fibonacci(10)\n",
        "for num in fib_iter:\n",
        "    print(num)"
      ],
      "metadata": {
        "colab": {
          "base_uri": "https://localhost:8080/"
        },
        "id": "XyiLOOIJsUF_",
        "outputId": "077478e5-0225-40fb-b740-5c8fb28c8d7c"
      },
      "execution_count": 120,
      "outputs": [
        {
          "output_type": "stream",
          "name": "stdout",
          "text": [
            "0\n",
            "1\n",
            "1\n",
            "2\n",
            "3\n",
            "5\n",
            "8\n",
            "13\n",
            "21\n",
            "34\n"
          ]
        }
      ]
    },
    {
      "cell_type": "code",
      "source": [
        "# Write a generator function in python thay yields the power of 2 up to a given exponent.\n",
        "\n",
        "def power_of_two(n):\n",
        "  for i in range(n):\n",
        "    yield 2**i\n",
        "for x in power_of_two(5):\n",
        "  print(x, end=\" \")"
      ],
      "metadata": {
        "colab": {
          "base_uri": "https://localhost:8080/"
        },
        "id": "B0J2fepetxoN",
        "outputId": "6edb5fa9-0648-4298-b706-c1ded15ae60e"
      },
      "execution_count": 121,
      "outputs": [
        {
          "output_type": "stream",
          "name": "stdout",
          "text": [
            "1 2 4 8 16 "
          ]
        }
      ]
    },
    {
      "cell_type": "code",
      "source": [
        "# Implement a generator function that reads a file line by line and yields each line as a string.\n",
        "\n",
        "def read_file(filename):\n",
        "  with open(filename, \"r\") as f:\n",
        "    for line in f:\n",
        "      yield line.strip()"
      ],
      "metadata": {
        "id": "vV7N0HrVue4K"
      },
      "execution_count": 122,
      "outputs": []
    },
    {
      "cell_type": "code",
      "source": [
        "# Use a lambda function in python to sort a list of tuples based on the second element of each tuple.\n",
        "\n",
        "tuples = [(1,2), (3,1), (2,4)]\n",
        "sorted_tuples = sorted(tuples, key=lambda x: x[1])\n",
        "print(sorted_tuples)"
      ],
      "metadata": {
        "colab": {
          "base_uri": "https://localhost:8080/"
        },
        "id": "xMtsbXWUu5Ju",
        "outputId": "f8a9bc1d-428a-4528-cf19-5853921a30de"
      },
      "execution_count": 123,
      "outputs": [
        {
          "output_type": "stream",
          "name": "stdout",
          "text": [
            "[(3, 1), (1, 2), (2, 4)]\n"
          ]
        }
      ]
    },
    {
      "cell_type": "code",
      "source": [
        "# Write a python program that uses map() to convert a list of temperatures from celsius to fahrenheit.\n",
        "\n",
        "celsius = [0, 10, 20, 30]\n",
        "fahrenheit = list(map(lambda x: (x*9/5)+32, celsius))\n",
        "print(fahrenheit)"
      ],
      "metadata": {
        "colab": {
          "base_uri": "https://localhost:8080/"
        },
        "id": "d8b6i2j6vOM_",
        "outputId": "52ec70f5-2394-4e9f-e56d-40875a7116a8"
      },
      "execution_count": 124,
      "outputs": [
        {
          "output_type": "stream",
          "name": "stdout",
          "text": [
            "[32.0, 50.0, 68.0, 86.0]\n"
          ]
        }
      ]
    },
    {
      "cell_type": "code",
      "source": [
        "# Create a python program that uses filter() to remove all that vowels from a given string.\n",
        "\n",
        "def remove_vowels(string):\n",
        "   return \"\".joint(filter(lambda x: x.lower() not in \"aeiou\", string))\n",
        "   print(remove_vowels(\"hello world\"))"
      ],
      "metadata": {
        "id": "gd5rHdvfvs0f"
      },
      "execution_count": 129,
      "outputs": []
    },
    {
      "cell_type": "code",
      "source": [
        "# Imagine an accounting routine used in a book shop. It works on a list with sublists, which look like this:\n",
        "\n",
        "# Order number   book title and author   quantity   price per item\n",
        "# 34587          learning python, Mark Lutz   4           40.95\n",
        "# 98762          programming python, Mark Lutz   5           56.80\n",
        "# 77226          head first python, Paul Barry   3           32.95\n",
        "# 88112          introduction to python, Bernd Klein   3       24.99\n",
        "# Write a python program, which returns a list with 2-tuples. Each tuple consists of the order number and the product of the price per item and the quantity. the product should be increased by 10,- c if the value of the order is smaller than 100,00 c.\n",
        "# Write a python program using lambda and map.\n",
        "\n",
        "orders = [\n",
        "    [34587, \"learning python, Mark Lutz\", 4, 40.95],\n",
        "    [98762, \"programming python, Mark Lutz\", 5, 56.80],\n",
        "    [77226, \"head first python, Paul Barry\", 3, 32.95],\n",
        "    [88112, \"introduction to python, Bernd Klein\", 3, 24.99]\n",
        "]\n",
        "final_totals = list(map(lambda order: (order[0], order[2] * order[3] + 10 if order[2] * order[3] < 100 else order[2] * order[3]), orders))\n",
        "print(final_totals)"
      ],
      "metadata": {
        "colab": {
          "base_uri": "https://localhost:8080/"
        },
        "id": "4wcT94Baw2ve",
        "outputId": "c3e906dd-01c7-419c-dc27-43879658dd77"
      },
      "execution_count": 126,
      "outputs": [
        {
          "output_type": "stream",
          "name": "stdout",
          "text": [
            "[(34587, 163.8), (98762, 284.0), (77226, 108.85000000000001), (88112, 84.97)]\n"
          ]
        }
      ]
    },
    {
      "cell_type": "markdown",
      "source": [
        "\n",
        "\n",
        "---\n",
        "\n"
      ],
      "metadata": {
        "id": "dOnyHLQHmbB8"
      }
    }
  ]
}